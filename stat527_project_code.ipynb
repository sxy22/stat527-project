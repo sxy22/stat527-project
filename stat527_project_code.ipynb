{
 "cells": [
  {
   "cell_type": "code",
   "execution_count": 1,
   "id": "8533d3c5",
   "metadata": {},
   "outputs": [],
   "source": [
    "import numpy as np \n",
    "import pandas as pd\n",
    "import xgboost as xgb \n",
    "from sklearn.preprocessing import LabelEncoder, OneHotEncoder\n",
    "from sklearn.linear_model import LassoCV, Lasso, RidgeCV, ElasticNetCV, ElasticNet, LinearRegression\n",
    "from sklearn.metrics import mean_squared_error\n",
    "from sklearn.preprocessing import StandardScaler\n",
    "import xgboost as xgb"
   ]
  },
  {
   "cell_type": "code",
   "execution_count": 2,
   "id": "d37fa071",
   "metadata": {},
   "outputs": [],
   "source": [
    "# col from 1 to 10\n",
    "def train_test_split(testID, data, col):\n",
    "    col -= 1\n",
    "    tid = testID.iloc[:, col].values.copy()\n",
    "    tid -= 1\n",
    "    train = data.drop(tid)\n",
    "    test = data.iloc[tid, :].copy()\n",
    "    test_y = test['Sale_Price']\n",
    "    test.drop(['Sale_Price'], axis=1, inplace=True)\n",
    "    return train, test, test_y"
   ]
  },
  {
   "cell_type": "code",
   "execution_count": 5,
   "id": "068b2f75",
   "metadata": {},
   "outputs": [],
   "source": [
    "data = pd.read_csv('./Ames_data.csv')\n",
    "testID = pd.read_csv('./project_testIDs.dat', header=None, sep=' ')"
   ]
  },
  {
   "cell_type": "code",
   "execution_count": 34,
   "id": "ca570ebb",
   "metadata": {},
   "outputs": [],
   "source": [
    "def model(train, test, test_y):\n",
    "    # processing train data\n",
    "    removed_features = ['Street', 'Utilities', 'Condition_2', 'Roof_Matl', 'Heating', \n",
    "                    'Pool_QC', 'Misc_Feature', 'Low_Qual_Fin_SF', 'Pool_Area', \n",
    "                    'Longitude','Latitude', 'Bsmt_Full_Bath', 'Bsmt_Half_Bath', 'Three_season_porch', 'Misc_Val']\n",
    "    train.index = pd.Index(range(len(train)))\n",
    "    train.fillna(0, inplace=True)\n",
    "    Y = train['Sale_Price']\n",
    "    train.drop(['Sale_Price', 'PID'], axis=1, inplace=True)\n",
    "    train.drop(removed_features, axis=1, inplace=True)\n",
    "    # feature\n",
    "    features = train.columns.values.tolist()\n",
    "    categ_features = []\n",
    "    dense_features = []\n",
    "    for f, dtype in train.dtypes.items():\n",
    "        if dtype == object:\n",
    "            categ_features.append(f)\n",
    "        else:\n",
    "            dense_features.append(f)\n",
    "    train_reg = train.copy()\n",
    "    # wins\n",
    "    wins_features = [\"Lot_Frontage\", \"Lot_Area\", \"Mas_Vnr_Area\", \"BsmtFin_SF_2\", \"Bsmt_Unf_SF\", \"Total_Bsmt_SF\", \n",
    "                     \"Second_Flr_SF\", 'First_Flr_SF', \"Gr_Liv_Area\", \"Garage_Area\", \"Wood_Deck_SF\", \n",
    "                     \"Open_Porch_SF\", 'Enclosed_Porch', 'Screen_Porch'] \n",
    "    features_quan = []\n",
    "    for f in wins_features:\n",
    "        col = train_reg[f]\n",
    "        quan95 = np.quantile(col, 0.95)\n",
    "        features_quan.append(quan95)\n",
    "        train_reg[f] = np.where(col > quan95, quan95, col)\n",
    "    # standardize\n",
    "    scaler = StandardScaler()\n",
    "    train_reg_dense = train_reg[dense_features]\n",
    "    standard_train_reg = pd.DataFrame(scaler.fit_transform(train_reg_dense), columns=train_reg_dense.columns)\n",
    "    train_reg = standard_train_reg\n",
    "    Y = np.log(Y)\n",
    "    # processing test\n",
    "    test.index = pd.Index(range(len(test)))\n",
    "    test.fillna(0, inplace=True)\n",
    "    test.drop(removed_features, axis=1, inplace=True)\n",
    "    test_PID = test['PID']\n",
    "    test.drop(['PID'], axis=1, inplace=True)\n",
    " \n",
    "    test_reg = test.copy()\n",
    "    # wins\n",
    "    for i in range(len(wins_features)):\n",
    "        quan95 = features_quan[i]\n",
    "        f = wins_features[i]\n",
    "        test_reg[f] = np.where(test_reg[f] > quan95, quan95, test_reg[f])\n",
    "    # standardize\n",
    "    test_reg_dense = test_reg[dense_features]\n",
    "    standard_test_reg = pd.DataFrame(scaler.transform(test_reg_dense), columns=test_reg_dense.columns)\n",
    "    test_reg = standard_test_reg\n",
    "    \n",
    "   #  return train_reg\n",
    "    ridge_alphas = np.linspace(20, 30, 20) \n",
    "    ridgecv = RidgeCV(alphas=ridge_alphas, normalize=False, cv=10)\n",
    "    ridgecv.fit(train_reg, Y)\n",
    "    \n",
    "    test_pred_reg = ridgecv.predict(test_reg)\n",
    "    err_reg = np.sqrt(mean_squared_error(test_pred_reg, np.log(test_y)))\n",
    "    # err_reg = np.sqrt(mean_squared_error(test_pred_reg, test_y))\n",
    "    \n",
    "    OLS = LinearRegression()\n",
    "    OLS.fit(train_reg, Y)\n",
    "    test_pred_ols = OLS.predict(test_reg)\n",
    "    err_ols = np.sqrt(mean_squared_error(test_pred_ols, np.log(test_y)))\n",
    "#     return np.round(err_ols, 4), OLS.intercept_\n",
    "    \n",
    "#     xgb_model = xgb.XGBRegressor(n_estimators=500, max_depth=5, learning_rate=0.05,\n",
    "#                       verbosity=0, subsample=0.5, random_state=2021)\n",
    "\n",
    "#     xgb_model.fit(train_reg, Y)\n",
    "#     test_pred_xgb = xgb_model.predict(test_reg)\n",
    "    \n",
    "#     return np.round(np.sqrt(mean_squared_error(test_pred_xgb, np.log(test_y))), 4)\n",
    "    lassocv = LassoCV(normalize=False, cv=10)\n",
    "    lassocv.fit(train_reg, Y)\n",
    "    test_pred_las = lassocv.predict(test_reg)\n",
    "    err_las = np.sqrt(mean_squared_error(test_pred_las, np.log(test_y)))\n",
    "    # err_las = np.sqrt(mean_squared_error(test_pred_las, test_y))\n",
    "    \n",
    "\n",
    "    encv = ElasticNetCV(normalize=False, cv=10)\n",
    "    # encv = ElasticNet()\n",
    "    encv.fit(train_reg, Y)\n",
    "    test_pred_en = encv.predict(test_reg)\n",
    "    err_en = np.sqrt(mean_squared_error(test_pred_en, np.log(test_y)))\n",
    "    # err_en = np.sqrt(mean_squared_error(test_pred_en, test_y))\n",
    "    return OLS, ridgecv, lassocv, encv, dense_features\n",
    "    \n",
    "    c1 = np.sum(ridgecv.coef_==0)\n",
    "    c2 = np.sum(lassocv.coef_==0)\n",
    "    c3 = np.sum(encv.coef_==0)\n",
    "    return np.round(err_reg, 4), np.round(err_las, 4), np.round(err_en, 4), c1, c2, c3 "
   ]
  },
  {
   "cell_type": "code",
   "execution_count": 191,
   "id": "5e881469",
   "metadata": {},
   "outputs": [],
   "source": [
    "for i in range(1, 11):\n",
    "    train, test, test_y = train_test_split(testID, data, i)\n",
    "    x, y, z, a, b, c = model(train, test, test_y)\n",
    "    e1.append(x)\n",
    "    e2.append(y)\n",
    "    e3.append(z)\n",
    "    z1.append(a)\n",
    "    z2.append(b)\n",
    "    z3.append(c)"
   ]
  },
  {
   "cell_type": "code",
   "execution_count": 195,
   "id": "87179589",
   "metadata": {},
   "outputs": [
    {
     "name": "stdout",
     "output_type": "stream",
     "text": [
      "[0.1631, 0.162, 0.1545, 0.1608, 0.1447, 0.1749, 0.174, 0.1665, 0.1722, 0.1577] 0.16304\n",
      "[0.1628, 0.1621, 0.1547, 0.1606, 0.1451, 0.1746, 0.174, 0.1666, 0.1719, 0.1579] 0.16302999999999998\n",
      "[0.1629, 0.1621, 0.1547, 0.1606, 0.145, 0.1745, 0.174, 0.1666, 0.1719, 0.1579] 0.16302\n",
      "[0, 0, 0, 0, 0, 0, 0, 0, 0, 0]\n",
      "[3, 2, 2, 2, 2, 1, 3, 1, 3, 1]\n",
      "[3, 2, 2, 2, 2, 2, 2, 1, 3, 2]\n"
     ]
    }
   ],
   "source": [
    "print(e1, np.mean(e1))\n",
    "print(e2, np.mean(e2))\n",
    "print(e3, np.mean(e3))\n",
    "print(z1)\n",
    "print(z2)\n",
    "print(z3)"
   ]
  },
  {
   "cell_type": "code",
   "execution_count": 37,
   "id": "b58c807b",
   "metadata": {},
   "outputs": [],
   "source": [
    "o, r, l, e, F = model(train, test, test_y)"
   ]
  },
  {
   "cell_type": "code",
   "execution_count": 40,
   "id": "445ac3f2",
   "metadata": {},
   "outputs": [],
   "source": [
    "df = pd.DataFrame({'fea': F, 'OLS':o.coef_, 'R':r.coef_, 'L':l.coef_, 'EN':e.coef_})"
   ]
  },
  {
   "cell_type": "code",
   "execution_count": 42,
   "id": "55fac8de",
   "metadata": {},
   "outputs": [],
   "source": [
    "df.to_csv('coef.csv', index=False)"
   ]
  }
 ],
 "metadata": {
  "kernelspec": {
   "display_name": "Python 3 (ipykernel)",
   "language": "python",
   "name": "python3"
  },
  "language_info": {
   "codemirror_mode": {
    "name": "ipython",
    "version": 3
   },
   "file_extension": ".py",
   "mimetype": "text/x-python",
   "name": "python",
   "nbconvert_exporter": "python",
   "pygments_lexer": "ipython3",
   "version": "3.8.11"
  },
  "toc": {
   "base_numbering": 1,
   "nav_menu": {},
   "number_sections": true,
   "sideBar": true,
   "skip_h1_title": false,
   "title_cell": "Table of Contents",
   "title_sidebar": "Contents",
   "toc_cell": false,
   "toc_position": {},
   "toc_section_display": true,
   "toc_window_display": false
  }
 },
 "nbformat": 4,
 "nbformat_minor": 5
}
